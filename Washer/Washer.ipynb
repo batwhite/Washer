{
  "nbformat": 4,
  "nbformat_minor": 0,
  "metadata": {
    "colab": {
      "name": "Washer.ipynb",
      "provenance": [],
      "authorship_tag": "ABX9TyMFhb5Rq4nbcIIHnD1pdZgB",
      "include_colab_link": true
    },
    "kernelspec": {
      "name": "python3",
      "display_name": "Python 3"
    },
    "language_info": {
      "name": "python"
    }
  },
  "cells": [
    {
      "cell_type": "markdown",
      "metadata": {
        "id": "view-in-github",
        "colab_type": "text"
      },
      "source": [
        "<a href=\"https://colab.research.google.com/github/batwhite/Washer/blob/master/Washer/Washer.ipynb\" target=\"_parent\"><img src=\"https://colab.research.google.com/assets/colab-badge.svg\" alt=\"Open In Colab\"/></a>"
      ]
    },
    {
      "cell_type": "code",
      "metadata": {
        "colab": {
          "base_uri": "https://localhost:8080/"
        },
        "id": "7QMkWB-4MC7V",
        "outputId": "db3eecd6-dba0-4431-9653-08f17ea0d752"
      },
      "source": [
        "!git clone https://github.com/batwhite/Washer"
      ],
      "execution_count": 1,
      "outputs": [
        {
          "output_type": "stream",
          "name": "stdout",
          "text": [
            "Cloning into 'Washer'...\n",
            "remote: Enumerating objects: 5400, done.\u001b[K\n",
            "remote: Counting objects: 100% (5400/5400), done.\u001b[K\n",
            "remote: Compressing objects: 100% (5398/5398), done.\u001b[K\n",
            "remote: Total 5400 (delta 1), reused 5400 (delta 1), pack-reused 0\u001b[K\n",
            "Receiving objects: 100% (5400/5400), 828.51 MiB | 25.05 MiB/s, done.\n",
            "Resolving deltas: 100% (1/1), done.\n",
            "Checking out files: 100% (5502/5502), done.\n"
          ]
        }
      ]
    },
    {
      "cell_type": "code",
      "metadata": {
        "id": "_vSUmn-dKpnC"
      },
      "source": [
        "import tensorflow as tf\n",
        "import matplotlib.pyplot as plt\n",
        "import cv2 as cv2\n",
        "import numpy as np\n",
        "import pandas as pd\n",
        "import seaborn as sns\n"
      ],
      "execution_count": null,
      "outputs": []
    }
  ]
}